{
 "cells": [
  {
   "cell_type": "markdown",
   "metadata": {},
   "source": [
    "## Контрольные задачи по дисциплине СиАОД №1\n",
    "# Задача 1. «Треугольник с максимальным периметром»\n",
    "Массив A состоит из целых положительных чисел ­ длин отрезков. Составьте из трех отрезков такой треугольник, чтобы его периметр был максимально возможным. Если невозможно\n",
    "составить треугольник с положительной площадью ­ функция возвращает 0."
   ]
  },
  {
   "cell_type": "code",
   "execution_count": 9,
   "metadata": {},
   "outputs": [
    {
     "name": "stdout",
     "output_type": "stream",
     "text": [
      "[9. 3. 1. 7.]\n",
      "Треугольник с максимальным периметром:\n",
      "[9. 3. 7.]\n",
      "Максимальный периметр: 19.0\n"
     ]
    }
   ],
   "source": [
    "import time\n",
    "import random\n",
    "import numpy as np\n",
    "\n",
    "def triangleCheck(a, b, c):\n",
    "    if a + b > c and a + c > b and b + c > a:\n",
    "        return 1\n",
    "    else:\n",
    "        return 0\n",
    "def perimeter(a, b, c):\n",
    "    return a + b + c\n",
    "m = random.randint(3,10)\n",
    "sidesMass = np.empty([m])\n",
    "triangleMass = np.empty([3])\n",
    "for i in range(m):\n",
    "    sidesMass[i] = random.randint(1,10)\n",
    "print(sidesMass)\n",
    "maxPerimeter = 0\n",
    "for i in range(m - 2):\n",
    "    for j in range(i + 1, m - 1):\n",
    "        for k in range(j + 1, m):\n",
    "            if triangleCheck(sidesMass[i],sidesMass[j],sidesMass[k]):\n",
    "                if sidesMass[i] + sidesMass[j] + sidesMass[k] > maxPerimeter:\n",
    "                    triangleMass[0] = sidesMass[i]\n",
    "                    triangleMass[1] = sidesMass[j]\n",
    "                    triangleMass[2] = sidesMass[k]\n",
    "                    maxPerimeter = sidesMass[i] + sidesMass[j] + sidesMass[k]\n",
    "if maxPerimeter != 0:\n",
    "    print(\"Треугольник с максимальным периметром:\")\n",
    "    print(triangleMass)\n",
    "    print(\"Максимальный периметр: \" + str(maxPerimeter))\n",
    "else:\n",
    "    print(\"С такими сторонами нету правильных треугольников\")\n"
   ]
  },
  {
   "cell_type": "code",
   "execution_count": null,
   "metadata": {},
   "outputs": [],
   "source": []
  },
  {
   "cell_type": "code",
   "execution_count": null,
   "metadata": {},
   "outputs": [],
   "source": []
  },
  {
   "cell_type": "code",
   "execution_count": null,
   "metadata": {},
   "outputs": [],
   "source": []
  }
 ],
 "metadata": {
  "kernelspec": {
   "display_name": "Python 3",
   "language": "python",
   "name": "python3"
  },
  "language_info": {
   "codemirror_mode": {
    "name": "ipython",
    "version": 3
   },
   "file_extension": ".py",
   "mimetype": "text/x-python",
   "name": "python",
   "nbconvert_exporter": "python",
   "pygments_lexer": "ipython3",
   "version": "3.8.5"
  },
  "toc-autonumbering": true,
  "toc-showcode": true
 },
 "nbformat": 4,
 "nbformat_minor": 5
}
