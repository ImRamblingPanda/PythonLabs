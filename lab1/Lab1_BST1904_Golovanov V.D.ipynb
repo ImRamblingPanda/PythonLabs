{
 "cells": [
  {
   "cell_type": "markdown",
   "metadata": {},
   "source": [
    "# Лараторная работа №1\n",
    " Выполнил студент группы БСТ1904 Голованов В.Д."
   ]
  },
  {
   "cell_type": "code",
   "execution_count": 1,
   "metadata": {},
   "outputs": [
    {
     "name": "stdout",
     "output_type": "stream",
     "text": [
      "Hello World!\n"
     ]
    }
   ],
   "source": [
    "print(\"Hello World!\")"
   ]
  },
  {
   "cell_type": "markdown",
   "metadata": {},
   "source": [
    "# Задание №2\n",
    " Написать генератор случайных матриц(многомерных), который принимает\n",
    " опциональные параметры m, n, min_limit, max_limit, где m и n указывают размер\n",
    " матрицы, а min_lim и max_lim - минимальное и максимальное значение для\n",
    " генерируемого числа . По умолчанию при отсутствии параметров принимать следующие\n",
    " значения:\n",
    " m = 50\n",
    " n = 50\n",
    " min_limit = -250\n",
    " max_limit = 1000 + 4"
   ]
  },
  {
   "cell_type": "code",
   "execution_count": 5,
   "metadata": {},
   "outputs": [
    {
     "name": "stdin",
     "output_type": "stream",
     "text": [
      "Введите количество строк: 29\n",
      "Введите число столбцов: 12\n",
      "Введите минимальное число: -1\n",
      "Введите максимальное число: 10\n"
     ]
    },
    {
     "name": "stdout",
     "output_type": "stream",
     "text": [
      "[[ 5. -1.  9.  7.  3.  3.  1.  9.  8.  0.  2.  4.]\n",
      " [ 3.  9.  9.  1.  4.  1.  0.  9.  0. -1.  7.  9.]\n",
      " [-1.  2.  3.  9.  0.  3.  7.  4.  2. -1.  5.  4.]\n",
      " [-1.  7.  3.  3.  4.  2.  9. -1.  6.  8. 10.  7.]\n",
      " [ 4.  7.  2.  8.  6.  9.  6.  9.  0. -1.  6.  6.]\n",
      " [ 8.  0.  4.  8.  7.  4.  0. 10.  8.  6.  4.  1.]\n",
      " [ 6.  6.  7.  5.  6. 10. 10.  8.  7.  7. -1.  8.]\n",
      " [ 6.  9.  3.  2.  0.  8.  4. -1.  8.  6.  3. -1.]\n",
      " [ 8.  2.  3.  7.  1.  9.  1.  7.  7. 10.  6.  7.]\n",
      " [-1. 10.  8.  6.  8.  6.  3.  9.  6.  8.  9.  1.]\n",
      " [ 4. 10.  4.  7.  3. 10. 10.  3.  4.  4.  9.  4.]\n",
      " [ 0.  9. -1.  6.  1.  4.  7.  9.  0.  6.  5.  5.]\n",
      " [ 3. -1.  9.  6.  4. -1.  3.  9.  2.  8.  1.  1.]\n",
      " [ 2.  6.  9.  5.  5.  0.  1.  5.  3.  9.  1.  2.]\n",
      " [10.  6.  0.  6.  0. 10.  9.  9.  8.  2.  4.  5.]\n",
      " [ 4. -1. 10. -1.  3.  1.  2. -1.  0.  2.  3.  2.]\n",
      " [ 9.  9.  7.  7.  4.  3. -1.  0.  1. -1.  7. 10.]\n",
      " [ 0.  4.  3.  0.  3.  1. 10.  6.  3.  4.  8. -1.]\n",
      " [ 9.  1. 10.  9.  9. 10. 10.  1.  0.  6.  4. -1.]\n",
      " [ 2.  8.  7.  0.  8.  1. -1.  2.  6. 10.  3.  2.]\n",
      " [ 2.  2.  0.  6.  6.  7. 10.  4.  1.  9.  7.  9.]\n",
      " [ 3. 10.  1.  3. 10.  7.  9.  5.  0. -1.  2. -1.]\n",
      " [ 1. 10.  7.  9.  2.  7.  6.  6.  1.  3.  9.  1.]\n",
      " [ 5.  7.  8.  6. 10.  3.  9.  1. -1. 10.  3.  3.]\n",
      " [ 0. -1.  7. -1.  5.  0. -1. 10.  2.  1.  9.  8.]\n",
      " [ 3.  8. 10.  3.  2.  1.  0.  6.  8.  4. 10.  7.]\n",
      " [10.  5.  6.  2.  4.  5.  7.  8.  9.  1.  3. -1.]\n",
      " [ 8.  3.  0. -1.  5.  5. 10.  3.  9.  0. 10. 10.]\n",
      " [-1.  8.  1.  4. -1.  8.  3.  3. -1.  6.  3.  5.]]\n"
     ]
    }
   ],
   "source": [
    "import numpy as np\n",
    "import random\n",
    "try:\n",
    "    m = int(input(\"Введите количество строк:\"))\n",
    "except ValueError:\n",
    "    m = 50\n",
    "try:\n",
    "    n = int(input(\"Введите число столбцов:\"))\n",
    "except ValueError:\n",
    "    n = 50\n",
    "try:\n",
    "    min_limit = int(input(\"Введите минимальное число:\"))\n",
    "except ValueError:\n",
    "    min_limit  = -250\n",
    "try:\n",
    "    max_limit = int(input(\"Введите максимальное число:\"))\n",
    "except ValueError:\n",
    "    max_limit = 1004\n",
    "genMass = np.empty([m,n])\n",
    "for i in range(m):\n",
    "    for j in range(n):\n",
    "        genMass[i,j] = random.randint(min_limit, max_limit)\n",
    "print(genMass)"
   ]
  },
  {
   "cell_type": "markdown",
   "metadata": {
    "tags": []
   },
   "source": [
    "## Задание №3\n",
    " Реализовать методы сортировки строк числовой матрицы в соответствии с\n",
    " заданием. Оценить время работы каждого алгоритма сортировки и сравнить его со\n",
    " временем стандартной функции сортировки. Испытания проводить на сгенерированных\n",
    " матрицах."
   ]
  },
  {
   "cell_type": "code",
   "execution_count": 2,
   "metadata": {},
   "outputs": [
    {
     "name": "stdout",
     "output_type": "stream",
     "text": [
      "[[4. 4. 4.]\n",
      " [5. 5. 8.]]\n",
      "Wall time: 8 ms\n"
     ]
    }
   ],
   "source": [
    "%%time\n",
    "import numpy as np\n",
    "def insertionSort(genMass): \n",
    "    for i in range(1, len(genMass)): \n",
    "        new_elem = genMass[i] \n",
    "        j = i - 1 \n",
    "        while j >= 0 and genMass[j] > new_elem: \n",
    "            genMass[j + 1] = genMass[j] \n",
    "            j -= 1 \n",
    "        genMass[j + 1] = new_elem\n",
    "sortMass = np.empty([m*n])\n",
    "z = 0\n",
    "for i in range (m):\n",
    "    for j in range (n):\n",
    "        sortMass[z] = genMass[i,j]\n",
    "        z = z + 1\n",
    "insertionSort(sortMass)\n",
    "z = 0\n",
    "for i in range (m):\n",
    "    for j in range (n):\n",
    "        genMass[i,j] = sortMass[z] \n",
    "        z = z + 1\n",
    "print(genMass)"
   ]
  },
  {
   "cell_type": "code",
   "execution_count": 5,
   "metadata": {},
   "outputs": [
    {
     "name": "stdout",
     "output_type": "stream",
     "text": [
      "[[-27. -21.]\n",
      " [ -2.  10.]\n",
      " [ 30.  35.]]\n",
      "Wall time: 33.1 ms\n"
     ]
    }
   ],
   "source": [
    "%%time\n",
    "import numpy as np\n",
    "sortMass = np.empty([m*n])\n",
    "z = 0\n",
    "for i in range (m):\n",
    "    for j in range (n):\n",
    "        sortMass[z] = genMass[i,j]\n",
    "        z = z + 1\n",
    "sortMass.sort()\n",
    "z = 0\n",
    "for i in range (m):\n",
    "    for j in range (n):\n",
    "        genMass[i,j] = sortMass[z] \n",
    "        z = z + 1\n",
    "print(genMass)"
   ]
  },
  {
   "cell_type": "code",
   "execution_count": 6,
   "metadata": {},
   "outputs": [
    {
     "name": "stdout",
     "output_type": "stream",
     "text": [
      "[[-27. -21.]\n",
      " [ -2.  10.]\n",
      " [ 30.  35.]]\n",
      "Wall time: 0 ns\n"
     ]
    }
   ],
   "source": [
    "%%time\n",
    "import numpy as np\n",
    "def selectionSort(genMass):\n",
    "    for i in range(len(genMass) - 1):\n",
    "        m = i\n",
    "        j = i + 1\n",
    "        while j < len(genMass):\n",
    "            if genMass[j] < genMass[m]:\n",
    "                m = j\n",
    "            j = j + 1\n",
    "        genMass[i], genMass[m] = genMass[m], genMass[i]\n",
    "sortMass = np.empty([m*n])\n",
    "z = 0\n",
    "for i in range (m):\n",
    "    for j in range (n):\n",
    "        sortMass[z] = genMass[i,j]\n",
    "        z = z + 1\n",
    "selectionSort(sortMass)\n",
    "z = 0\n",
    "for i in range (m):\n",
    "    for j in range (n):\n",
    "        genMass[i,j] = sortMass[z] \n",
    "        z = z + 1\n",
    "print(genMass)"
   ]
  },
  {
   "cell_type": "code",
   "execution_count": 7,
   "metadata": {},
   "outputs": [
    {
     "name": "stdout",
     "output_type": "stream",
     "text": [
      "[[-27. -21.]\n",
      " [ -2.  10.]\n",
      " [ 30.  35.]]\n",
      "Wall time: 0 ns\n"
     ]
    }
   ],
   "source": [
    "%%time\n",
    "import numpy as np\n",
    "def bubbleSort(genMass): \n",
    "    for j in range(len(genMass) - 1, 0, -1): \n",
    "        for i in range(0, j): \n",
    "            if genMass[i] > genMass[i + 1]: \n",
    "                genMass[i], genMass[i + 1] = genMass[i + 1], genMass[i]\n",
    "sortMass = np.empty([m*n])\n",
    "z = 0\n",
    "for i in range (m):\n",
    "    for j in range (n):\n",
    "        sortMass[z] = genMass[i,j]\n",
    "        z = z + 1\n",
    "bubbleSort(sortMass)\n",
    "z = 0\n",
    "for i in range (m):\n",
    "    for j in range (n):\n",
    "        genMass[i,j] = sortMass[z] \n",
    "        z = z + 1\n",
    "print(genMass)"
   ]
  },
  {
   "cell_type": "code",
   "execution_count": 3,
   "metadata": {},
   "outputs": [
    {
     "name": "stdout",
     "output_type": "stream",
     "text": [
      "[[13. 14. 17. 19. 20. 26. 29. 30.]\n",
      " [30. 30. 31. 31. 31. 32. 33. 34.]\n",
      " [35. 36. 36. 40. 42. 42. 43. 43.]\n",
      " [44. 45. 46. 47. 47. 49. 49. 50.]]\n",
      "Wall time: 8.19 ms\n"
     ]
    }
   ],
   "source": [
    "%%time\n",
    "import numpy as np\n",
    "def shellSort(genMass):\n",
    "    gap = len(genMass) // 2\n",
    "    while gap > 0:\n",
    "        for i in range (len(genMass)):\n",
    "            j = i + gap\n",
    "            for j in range (len(genMass)):\n",
    "                if genMass[i] < genMass[j]:\n",
    "                    genMass[i], genMass[j] = genMass[j], genMass[i]\n",
    "        gap //= 2\n",
    "    \n",
    "        \n",
    "sortMass = np.empty([m*n])\n",
    "z = 0\n",
    "for i in range (m):\n",
    "    for j in range (n):\n",
    "        sortMass[z] = genMass[i,j]\n",
    "        z = z + 1\n",
    "shellSort(sortMass)\n",
    "z = 0\n",
    "for i in range (m):\n",
    "    for j in range (n):\n",
    "        genMass[i,j] = sortMass[z] \n",
    "        z = z + 1\n",
    "print(genMass)"
   ]
  },
  {
   "cell_type": "code",
   "execution_count": 10,
   "metadata": {},
   "outputs": [
    {
     "name": "stdout",
     "output_type": "stream",
     "text": [
      "[[ 1.  7.]\n",
      " [13. 16.]\n",
      " [17. 17.]\n",
      " [26. 27.]]\n"
     ]
    }
   ],
   "source": [
    "import numpy as np\n",
    "def quickSort(Arr, start, end):\n",
    "    if end - start > 1:\n",
    "        p = partition(Arr, start, end)\n",
    "        quickSort(Arr, start, p)\n",
    "        quickSort(Arr, p + 1, end)\n",
    " \n",
    " \n",
    "def partition(Arr, start, end):\n",
    "    pivot = Arr[start]\n",
    "    i = start + 1\n",
    "    j = end - 1\n",
    " \n",
    "    while True:\n",
    "        while (i <= j and Arr[i] <= pivot):\n",
    "            i = i + 1\n",
    "        while (i <= j and Arr[j] >= pivot):\n",
    "            j = j - 1\n",
    " \n",
    "        if i <= j:\n",
    "            Arr[i], Arr[j] = Arr[j], Arr[i]\n",
    "        else:\n",
    "            Arr[start], Arr[j] = Arr[j], Arr[start]\n",
    "            return j\n",
    " \n",
    "sortMass = np.empty([m*n])\n",
    "z = 0\n",
    "for i in range (m):\n",
    "    for j in range (n):\n",
    "        sortMass[z] = genMass[i,j]\n",
    "        z = z + 1\n",
    "quickSort(sortMass, 0, len(genMass))\n",
    "z = 0\n",
    "for i in range (m):\n",
    "    for j in range (n):\n",
    "        genMass[i,j] = sortMass[z] \n",
    "        z = z + 1\n",
    "print(genMass)"
   ]
  },
  {
   "cell_type": "code",
   "execution_count": 5,
   "metadata": {},
   "outputs": [
    {
     "name": "stdout",
     "output_type": "stream",
     "text": [
      "[[ 1.  7.]\n",
      " [13. 16.]\n",
      " [17. 17.]\n",
      " [26. 27.]]\n"
     ]
    }
   ],
   "source": [
    "import numpy as np\n",
    "def heapSort(Arr):\n",
    "    build_max_heap(Arr)\n",
    "    for i in range(len(Arr) - 1, 0, -1):\n",
    "        Arr[0], Arr[i] = Arr[i], Arr[0]\n",
    "        max_heapify(Arr, index=0, size=i)\n",
    "        \n",
    "def parent(i):\n",
    "    return (i - 1)//2\n",
    " \n",
    "def left(i):\n",
    "    return 2*i + 1\n",
    " \n",
    "def right(i):\n",
    "    return 2*i + 2\n",
    " \n",
    "def build_max_heap(Arr):\n",
    "    length = len(Arr)\n",
    "    start = parent(length - 1)\n",
    "    while start >= 0:\n",
    "        max_heapify(Arr, index=start, size=length)\n",
    "        start = start - 1\n",
    "        \n",
    "def max_heapify(Arr, index, size):\n",
    "    l = left(index)\n",
    "    r = right(index)\n",
    "    if (l < size and Arr[l] > Arr[index]):\n",
    "        largest = l\n",
    "    else:\n",
    "        largest = index\n",
    "    if (r < size and Arr[r] > Arr[largest]):\n",
    "        largest = r\n",
    "    if (largest != index):\n",
    "        Arr[largest], Arr[index] = Arr[index], Arr[largest]\n",
    "        max_heapify(Arr, largest, size)\n",
    " \n",
    " \n",
    "sortMass = np.empty([m*n])\n",
    "z = 0\n",
    "for i in range (m):\n",
    "    for j in range (n):\n",
    "        sortMass[z] = genMass[i,j]\n",
    "        z = z + 1\n",
    "heapSort(sortMass)\n",
    "z = 0\n",
    "for i in range (m):\n",
    "    for j in range (n):\n",
    "        genMass[i,j] = sortMass[z] \n",
    "        z = z + 1\n",
    "print(genMass)"
   ]
  },
  {
   "cell_type": "code",
   "execution_count": 1,
   "metadata": {},
   "outputs": [
    {
     "name": "stdin",
     "output_type": "stream",
     "text": [
      " 3 4 6 7 1 2 4\n"
     ]
    },
    {
     "name": "stdout",
     "output_type": "stream",
     "text": [
      "[1, 2, 3, 4, 4, 6, 7]\n"
     ]
    }
   ],
   "source": [
    "import numpy as np\n",
    "def tournamentSort(Arr):\n",
    "    tree = [None] * 2 * (len(Arr) + len(Arr) % 2)\n",
    "    index = len(tree) - len(Arr) - len(Arr) % 2\n",
    "    \n",
    "    for i, v in enumerate(Arr):\n",
    "        tree[index + i] = (i, v)  \n",
    "    for j in range(len(Arr)):\n",
    "        n = len(Arr)\n",
    "        index = len(tree) - len(Arr) - len(Arr) % 2\n",
    "        while index > -1:\n",
    "            n = (n + 1) // 2\n",
    "            for i in range(n):\n",
    "                i = max(index + i * 2, 1)\n",
    "                if tree[i] != None and tree[i + 1] != None:\n",
    "                    if tree[i][1] < tree[i + 1][1]:\n",
    "                        tree[i // 2] = tree[i]\n",
    "                    else:\n",
    "                        tree[i // 2] = tree[i + 1]\n",
    "                else:\n",
    "                    tree[i // 2] = tree[i] if tree[i] != None else tree[i + 1]\n",
    "            index -= n\n",
    "        index, x = tree[0]\n",
    "        Arr[j] = x\n",
    "        tree[len(tree) - len(Arr) - len(Arr) % 2 + index] = None\n",
    "Arr = input().split()\n",
    "Arr = [int(x) for x in Arr]\n",
    "tournamentSort(Arr)\n",
    "print(Arr)"
   ]
  },
  {
   "cell_type": "code",
   "execution_count": null,
   "metadata": {},
   "outputs": [],
   "source": []
  }
 ],
 "metadata": {
  "kernelspec": {
   "display_name": "Python 3",
   "language": "python",
   "name": "python3"
  },
  "language_info": {
   "codemirror_mode": {
    "name": "ipython",
    "version": 3
   },
   "file_extension": ".py",
   "mimetype": "text/x-python",
   "name": "python",
   "nbconvert_exporter": "python",
   "pygments_lexer": "ipython3",
   "version": "3.8.5"
  },
  "toc-autonumbering": false,
  "toc-showcode": false,
  "toc-showmarkdowntxt": true
 },
 "nbformat": 4,
 "nbformat_minor": 5
}
