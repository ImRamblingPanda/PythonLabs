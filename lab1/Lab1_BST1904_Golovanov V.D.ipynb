{
 "cells": [
  {
   "cell_type": "markdown",
   "id": "isolated-newark",
   "metadata": {},
   "source": [
    "# Лараторная работа №1\n",
    "## Выполнил студент группы БСТ1904 Голованов В.Д."
   ]
  },
  {
   "cell_type": "code",
   "execution_count": 1,
   "id": "lasting-supplement",
   "metadata": {},
   "outputs": [
    {
     "name": "stdout",
     "output_type": "stream",
     "text": [
      "Hello World!\n"
     ]
    }
   ],
   "source": [
    "print(\"Hello World!\")"
   ]
  },
  {
   "cell_type": "markdown",
   "id": "designed-thread",
   "metadata": {},
   "source": [
    "# Задание №2\n",
    "## Написать генератор случайных матриц(многомерных), который принимает\n",
    "## опциональные параметры m, n, min_limit, max_limit, где m и n указывают размер\n",
    "## матрицы, а min_lim и max_lim - минимальное и максимальное значение для\n",
    "## генерируемого числа . По умолчанию при отсутствии параметров принимать следующие\n",
    "## значения:\n",
    "## m = 50\n",
    "## n = 50\n",
    "## min_limit = -250\n",
    "## max_limit = 1000 + 4"
   ]
  },
  {
   "cell_type": "code",
   "execution_count": 3,
   "id": "aging-reverse",
   "metadata": {},
   "outputs": [
    {
     "name": "stdin",
     "output_type": "stream",
     "text": [
      "Введите количество строк: 4\n",
      "Введите число столбцов: 4\n",
      "Введите минимальное число: -32\n",
      "Введите максимальное число: 98\n"
     ]
    },
    {
     "name": "stdout",
     "output_type": "stream",
     "text": [
      "[[ 64.  20.  87.  94.]\n",
      " [-31. -14.  87.  84.]\n",
      " [-12.  46.  50.  14.]\n",
      " [ -5.  81.  70.   8.]]\n"
     ]
    }
   ],
   "source": [
    "import numpy as np\n",
    "import random\n",
    "try:\n",
    "    m = int(input(\"Введите количество строк:\"))\n",
    "except ValueError:\n",
    "    m = 50\n",
    "try:\n",
    "    n = int(input(\"Введите число столбцов:\"))\n",
    "except ValueError:\n",
    "    n = 50\n",
    "try:\n",
    "    min_limit = int(input(\"Введите минимальное число:\"))\n",
    "except ValueError:\n",
    "    min_limit  = -250\n",
    "try:\n",
    "    max_limit = int(input(\"Введите максимальное число:\"))\n",
    "except ValueError:\n",
    "    max_limit = 1004\n",
    "genMass = np.empty([m,n])\n",
    "for i in range(m):\n",
    "    for j in range(n):\n",
    "        genMass[i,j] = random.randint(min_limit, max_limit)\n",
    "print(genMass)\n"
   ]
  },
  {
   "cell_type": "markdown",
   "id": "primary-glance",
   "metadata": {},
   "source": [
    "## Задание №3\n",
    "## Реализовать методы сортировки строк числовой матрицы в соответствии с\n",
    "## заданием. Оценить время работы каждого алгоритма сортировки и сравнить его со\n",
    "## временем стандартной функции сортировки. Испытания проводить на сгенерированных\n",
    "## матрицах."
   ]
  },
  {
   "cell_type": "code",
   "execution_count": 8,
   "id": "toxic-priest",
   "metadata": {},
   "outputs": [
    {
     "name": "stdout",
     "output_type": "stream",
     "text": [
      "[[-31. -14. -12.  -5.]\n",
      " [  8.  14.  20.  46.]\n",
      " [ 50.  64.  70.  81.]\n",
      " [ 84.  87.  87.  94.]]\n",
      "Wall time: 0 ns\n"
     ]
    }
   ],
   "source": [
    "%%time\n",
    "import numpy as np\n",
    "def InsertionSort(genMass): \n",
    "    for i in range(1, len(genMass)): \n",
    "        new_elem = genMass[i] \n",
    "        j = i - 1 \n",
    "        while j >= 0 and genMass[j] > new_elem: \n",
    "            genMass[j + 1] = genMass[j] \n",
    "            j -= 1 \n",
    "        genMass[j + 1] = new_elem\n",
    "sortMass = np.empty([m*n])\n",
    "z = 0\n",
    "for i in range (m):\n",
    "    for j in range (n):\n",
    "        sortMass[z] = genMass[i,j]\n",
    "        z = z + 1\n",
    "InsertionSort(sortMass)\n",
    "z = 0\n",
    "for i in range (m):\n",
    "    for j in range (n):\n",
    "        genMass[i,j] = sortMass[z] \n",
    "        z = z + 1\n",
    "print(genMass)"
   ]
  },
  {
   "cell_type": "code",
   "execution_count": 9,
   "id": "automotive-sheffield",
   "metadata": {},
   "outputs": [
    {
     "name": "stdout",
     "output_type": "stream",
     "text": [
      "[[-31. -14. -12.  -5.]\n",
      " [  8.  14.  20.  46.]\n",
      " [ 50.  64.  70.  81.]\n",
      " [ 84.  87.  87.  94.]]\n",
      "Wall time: 14 ms\n"
     ]
    }
   ],
   "source": [
    "%%time\n",
    "import numpy as np\n",
    "sortMass = np.empty([m*n])\n",
    "z = 0\n",
    "for i in range (m):\n",
    "    for j in range (n):\n",
    "        sortMass[z] = genMass[i,j]\n",
    "        z = z + 1\n",
    "sortMass.sort()\n",
    "z = 0\n",
    "for i in range (m):\n",
    "    for j in range (n):\n",
    "        genMass[i,j] = sortMass[z] \n",
    "        z = z + 1\n",
    "print(genMass)"
   ]
  },
  {
   "cell_type": "code",
   "execution_count": null,
   "id": "occupied-domestic",
   "metadata": {},
   "outputs": [],
   "source": []
  }
 ],
 "metadata": {
  "kernelspec": {
   "display_name": "Python 3",
   "language": "python",
   "name": "python3"
  },
  "language_info": {
   "codemirror_mode": {
    "name": "ipython",
    "version": 3
   },
   "file_extension": ".py",
   "mimetype": "text/x-python",
   "name": "python",
   "nbconvert_exporter": "python",
   "pygments_lexer": "ipython3",
   "version": "3.9.2"
  }
 },
 "nbformat": 4,
 "nbformat_minor": 5
}
