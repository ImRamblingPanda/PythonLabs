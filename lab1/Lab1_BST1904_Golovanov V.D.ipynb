{
 "cells": [
  {
   "cell_type": "markdown",
   "id": "facial-macintosh",
   "metadata": {},
   "source": [
    "# Лараторная работа №1\n",
    " Выполнил студент группы БСТ1904 Голованов В.Д."
   ]
  },
  {
   "cell_type": "code",
   "execution_count": 1,
   "id": "controlled-bandwidth",
   "metadata": {},
   "outputs": [
    {
     "name": "stdout",
     "output_type": "stream",
     "text": [
      "Hello World!\n"
     ]
    }
   ],
   "source": [
    "print(\"Hello World!\")"
   ]
  },
  {
   "cell_type": "markdown",
   "id": "virgin-static",
   "metadata": {},
   "source": [
    "# Задание №2\n",
    " Написать генератор случайных матриц(многомерных), который принимает\n",
    " опциональные параметры m, n, min_limit, max_limit, где m и n указывают размер\n",
    " матрицы, а min_lim и max_lim - минимальное и максимальное значение для\n",
    " генерируемого числа . По умолчанию при отсутствии параметров принимать следующие\n",
    " значения:\n",
    " m = 50\n",
    " n = 50\n",
    " min_limit = -250\n",
    " max_limit = 1000 + 4"
   ]
  },
  {
   "cell_type": "code",
   "execution_count": 8,
   "id": "returning-junior",
   "metadata": {},
   "outputs": [
    {
     "name": "stdin",
     "output_type": "stream",
     "text": [
      "Введите количество строк: 4\n",
      "Введите число столбцов: 5\n",
      "Введите минимальное число: -12\n",
      "Введите максимальное число: 42\n"
     ]
    },
    {
     "name": "stdout",
     "output_type": "stream",
     "text": [
      "[[ 18.  25.   6.  28.  40.]\n",
      " [  5.  10.  39.  30.  20.]\n",
      " [-12.  37.  15.  38.  35.]\n",
      " [ 13.   3.  38.  21.  -4.]]\n"
     ]
    }
   ],
   "source": [
    "import numpy as np\n",
    "import random\n",
    "try:\n",
    "    m = int(input(\"Введите количество строк:\"))\n",
    "except ValueError:\n",
    "    m = 50\n",
    "try:\n",
    "    n = int(input(\"Введите число столбцов:\"))\n",
    "except ValueError:\n",
    "    n = 50\n",
    "try:\n",
    "    min_limit = int(input(\"Введите минимальное число:\"))\n",
    "except ValueError:\n",
    "    min_limit  = -250\n",
    "try:\n",
    "    max_limit = int(input(\"Введите максимальное число:\"))\n",
    "except ValueError:\n",
    "    max_limit = 1004\n",
    "genMass = np.empty([m,n])\n",
    "for i in range(m):\n",
    "    for j in range(n):\n",
    "        genMass[i,j] = random.randint(min_limit, max_limit)\n",
    "print(genMass)"
   ]
  },
  {
   "cell_type": "markdown",
   "id": "healthy-ridge",
   "metadata": {
    "tags": []
   },
   "source": [
    "## Задание №3\n",
    " Реализовать методы сортировки строк числовой матрицы в соответствии с\n",
    " заданием. Оценить время работы каждого алгоритма сортировки и сравнить его со\n",
    " временем стандартной функции сортировки. Испытания проводить на сгенерированных\n",
    " матрицах."
   ]
  },
  {
   "cell_type": "code",
   "execution_count": null,
   "id": "fleet-cooperation",
   "metadata": {},
   "outputs": [],
   "source": [
    "%%time\n",
    "import numpy as np\n",
    "def InsertionSort(genMass): \n",
    "    for i in range(1, len(genMass)): \n",
    "        new_elem = genMass[i] \n",
    "        j = i - 1 \n",
    "        while j >= 0 and genMass[j] > new_elem: \n",
    "            genMass[j + 1] = genMass[j] \n",
    "            j -= 1 \n",
    "        genMass[j + 1] = new_elem\n",
    "sortMass = np.empty([m*n])\n",
    "z = 0\n",
    "for i in range (m):\n",
    "    for j in range (n):\n",
    "        sortMass[z] = genMass[i,j]\n",
    "        z = z + 1\n",
    "InsertionSort(sortMass)\n",
    "z = 0\n",
    "for i in range (m):\n",
    "    for j in range (n):\n",
    "        genMass[i,j] = sortMass[z] \n",
    "        z = z + 1\n",
    "print(genMass)"
   ]
  },
  {
   "cell_type": "code",
   "execution_count": null,
   "id": "cellular-genome",
   "metadata": {},
   "outputs": [],
   "source": [
    "%%time\n",
    "import numpy as np\n",
    "sortMass = np.empty([m*n])\n",
    "z = 0\n",
    "for i in range (m):\n",
    "    for j in range (n):\n",
    "        sortMass[z] = genMass[i,j]\n",
    "        z = z + 1\n",
    "sortMass.sort()\n",
    "z = 0\n",
    "for i in range (m):\n",
    "    for j in range (n):\n",
    "        genMass[i,j] = sortMass[z] \n",
    "        z = z + 1\n",
    "print(genMass)"
   ]
  },
  {
   "cell_type": "code",
   "execution_count": null,
   "id": "gentle-thinking",
   "metadata": {},
   "outputs": [],
   "source": [
    "%%time\n",
    "import numpy as np\n",
    "def selectionSort(genMass): \n",
    "    for i in range(0, len(genMass) - 1): \n",
    "        for j in range(i + 1, len(genMass)): \n",
    "            if genMass[j] < genMass[i]: \n",
    "                genMass[i], genMass[j] = genMass[j], genMass[i]\n",
    "sortMass = np.empty([m*n])\n",
    "z = 0\n",
    "for i in range (m):\n",
    "    for j in range (n):\n",
    "        sortMass[z] = genMass[i,j]\n",
    "        z = z + 1\n",
    "InsertionSort(sortMass)\n",
    "z = 0\n",
    "for i in range (m):\n",
    "    for j in range (n):\n",
    "        genMass[i,j] = sortMass[z] \n",
    "        z = z + 1\n",
    "print(genMass)"
   ]
  },
  {
   "cell_type": "code",
   "execution_count": null,
   "id": "revised-temple",
   "metadata": {},
   "outputs": [],
   "source": [
    "%%time\n",
    "import numpy as np\n",
    "def selectionSort(genMass):\n",
    "    for i in range(len(genMass) - 1):\n",
    "        m = i\n",
    "        j = i + 1\n",
    "        while j < len(genMass):\n",
    "            if genMass[j] < genMass[m]:\n",
    "                m = j\n",
    "            j = j + 1\n",
    "        genMass[i], genMass[m] = genMass[m], genMass[i]\n",
    "sortMass = np.empty([m*n])\n",
    "z = 0\n",
    "for i in range (m):\n",
    "    for j in range (n):\n",
    "        sortMass[z] = genMass[i,j]\n",
    "        z = z + 1\n",
    "selectionSort(sortMass)\n",
    "z = 0\n",
    "for i in range (m):\n",
    "    for j in range (n):\n",
    "        genMass[i,j] = sortMass[z] \n",
    "        z = z + 1\n",
    "print(genMass)"
   ]
  },
  {
   "cell_type": "code",
   "execution_count": null,
   "id": "still-israeli",
   "metadata": {},
   "outputs": [],
   "source": [
    "%%time\n",
    "import numpy as np\n",
    "def bubbleSort(genMass): \n",
    "    for j in range(len(genMass) - 1, 0, -1): \n",
    "        for i in range(0, j): \n",
    "            if genMass[i] > genMass[i + 1]: \n",
    "                genMass[i], genMass[i + 1] = genMass[i + 1], genMass[i]\n",
    "sortMass = np.empty([m*n])\n",
    "z = 0\n",
    "for i in range (m):\n",
    "    for j in range (n):\n",
    "        sortMass[z] = genMass[i,j]\n",
    "        z = z + 1\n",
    "bubbleSort(sortMass)\n",
    "z = 0\n",
    "for i in range (m):\n",
    "    for j in range (n):\n",
    "        genMass[i,j] = sortMass[z] \n",
    "        z = z + 1\n",
    "print(genMass)"
   ]
  },
  {
   "cell_type": "code",
   "execution_count": 9,
   "id": "metallic-admission",
   "metadata": {},
   "outputs": [
    {
     "name": "stdout",
     "output_type": "stream",
     "text": [
      "[[-12.  -4.   3.   5.   6.]\n",
      " [ 10.  13.  15.  18.  20.]\n",
      " [ 21.  25.  28.  30.  35.]\n",
      " [ 37.  38.  38.  39.  40.]]\n",
      "Wall time: 999 µs\n"
     ]
    }
   ],
   "source": [
    "%%time\n",
    "import numpy as np\n",
    "def shellSort(genMass):\n",
    "    gap = len(genMass) // 2\n",
    "    while gap > 0:\n",
    "        for i in range (len(genMass)):\n",
    "            j = i + gap\n",
    "            for j in range (len(genMass)):\n",
    "                if genMass[i] < genMass[j]:\n",
    "                    genMass[i], genMass[j] = genMass[j], genMass[i]\n",
    "        gap //= 2\n",
    "    \n",
    "        \n",
    "sortMass = np.empty([m*n])\n",
    "z = 0\n",
    "for i in range (m):\n",
    "    for j in range (n):\n",
    "        sortMass[z] = genMass[i,j]\n",
    "        z = z + 1\n",
    "shellSort(sortMass)\n",
    "z = 0\n",
    "for i in range (m):\n",
    "    for j in range (n):\n",
    "        genMass[i,j] = sortMass[z] \n",
    "        z = z + 1\n",
    "print(genMass)"
   ]
  },
  {
   "cell_type": "code",
   "execution_count": 12,
   "id": "touched-relationship",
   "metadata": {},
   "outputs": [
    {
     "ename": "AttributeError",
     "evalue": "'numpy.ndarray' object has no attribute 'count'",
     "output_type": "error",
     "traceback": [
      "\u001b[1;31m---------------------------------------------------------------------------\u001b[0m",
      "\u001b[1;31mAttributeError\u001b[0m                            Traceback (most recent call last)",
      "\u001b[1;32m<timed exec>\u001b[0m in \u001b[0;36m<module>\u001b[1;34m\u001b[0m\n",
      "\u001b[1;32m<timed exec>\u001b[0m in \u001b[0;36mquickSort\u001b[1;34m(genMass)\u001b[0m\n",
      "\u001b[1;31mAttributeError\u001b[0m: 'numpy.ndarray' object has no attribute 'count'"
     ]
    }
   ],
   "source": [
    "%%time\n",
    "import numpy as np\n",
    "def quickSort(genMass):\n",
    "    if len(genMass) <= 1:\n",
    "        return genMass\n",
    "    else:\n",
    "        q = genMass[0]\n",
    "        L = [elem for elem in genMass if elem < q]\n",
    "        M = [q] * genMass.count(q)\n",
    "        R = [elem for elem in genMass if elem > q] \n",
    "        return QuickSort(L) + M + QuickSort(R)\n",
    "    \n",
    "        \n",
    "sortMass = np.empty([m*n])\n",
    "z = 0\n",
    "for i in range (m):\n",
    "    for j in range (n):\n",
    "        sortMass[z] = genMass[i,j]\n",
    "        z = z + 1\n",
    "quickSort(sortMass)\n",
    "z = 0\n",
    "for i in range (m):\n",
    "    for j in range (n):\n",
    "        genMass[i,j] = sortMass[z] \n",
    "        z = z + 1\n",
    "print(genMass)"
   ]
  },
  {
   "cell_type": "code",
   "execution_count": null,
   "id": "opened-shopper",
   "metadata": {},
   "outputs": [],
   "source": []
  },
  {
   "cell_type": "code",
   "execution_count": null,
   "id": "maritime-motivation",
   "metadata": {},
   "outputs": [],
   "source": []
  }
 ],
 "metadata": {
  "kernelspec": {
   "display_name": "Python 3",
   "language": "python",
   "name": "python3"
  },
  "language_info": {
   "codemirror_mode": {
    "name": "ipython",
    "version": 3
   },
   "file_extension": ".py",
   "mimetype": "text/x-python",
   "name": "python",
   "nbconvert_exporter": "python",
   "pygments_lexer": "ipython3",
   "version": "3.9.2"
  },
  "toc-autonumbering": false,
  "toc-showcode": false,
  "toc-showmarkdowntxt": true
 },
 "nbformat": 4,
 "nbformat_minor": 5
}
