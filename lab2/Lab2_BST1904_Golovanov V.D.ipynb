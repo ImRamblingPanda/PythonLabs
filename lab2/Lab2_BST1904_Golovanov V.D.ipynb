{
 "cells": [
  {
   "cell_type": "markdown",
   "id": "precious-queen",
   "metadata": {},
   "source": [
    "# Лараторная работа №2\n",
    " Выполнил студент группы БСТ1904 Голованов В.Д."
   ]
  },
  {
   "cell_type": "markdown",
   "id": "cultural-skiing",
   "metadata": {},
   "source": [
    "# Задание №1"
   ]
  },
  {
   "cell_type": "markdown",
   "id": "abandoned-daily",
   "metadata": {},
   "source": [
    "Бинарный поиск"
   ]
  },
  {
   "cell_type": "code",
   "execution_count": 3,
   "id": "following-planning",
   "metadata": {},
   "outputs": [
    {
     "name": "stdout",
     "output_type": "stream",
     "text": [
      "[18, 34, 55, 71, 73, 80]\n"
     ]
    },
    {
     "name": "stdin",
     "output_type": "stream",
     "text": [
      "Введите число: 55\n"
     ]
    },
    {
     "name": "stdout",
     "output_type": "stream",
     "text": [
      "2\n"
     ]
    },
    {
     "name": "stdin",
     "output_type": "stream",
     "text": [
      "Введите число, которое хотите добавить: 21\n"
     ]
    },
    {
     "name": "stdout",
     "output_type": "stream",
     "text": [
      "[18, 34, 55, 71, 73, 80, 21]\n"
     ]
    }
   ],
   "source": [
    "import numpy as np\n",
    "import random as rand\n",
    "def binarySearch(array, x):\n",
    "    lower = 0\n",
    "    upper = len(array)-1\n",
    "    while lower <= upper:\n",
    "        center = (lower + upper) // 2\n",
    "        if array[center] == x:\n",
    "            return center\n",
    "        \n",
    "        elif array[center] > x:\n",
    "            upper = center - 1\n",
    "        elif array[center] < x:\n",
    "            lower = center + 1\n",
    "    return -1\n",
    "def binaryAdd(array, x):\n",
    "    emptySpace = binarySearch(array, 0)\n",
    "    if emptySpace == -1:\n",
    "        array.append(x)\n",
    "    else:\n",
    "        array[emptySpace] = x\n",
    "        \n",
    "def binaryDeletion(array, x):\n",
    "    deletionItem = binarySearch(array, x)\n",
    "    if deletionItem == -1:\n",
    "        return -1\n",
    "    else:\n",
    "        array[deletionItem] = 0\n",
    "#Случайный массив чисел\n",
    "n = 6 #rand.randint(1,20)\n",
    "array = np.random.randint(1, 100, n)\n",
    "array = sorted(array)\n",
    "print(array)\n",
    "item = int(input(\"Введите число:\"))\n",
    "print(binarySearch(array, item))\n",
    "item = int(input(\"Введите число, которое хотите удалить:\"))\n",
    "binaryDeletion(array, item)\n",
    "print(array)\n",
    "item = int(input(\"Введите число, которое хотите добавить:\"))\n",
    "binaryAdd(array, item)\n",
    "print(array)"
   ]
  },
  {
   "cell_type": "markdown",
   "id": "offensive-trail",
   "metadata": {},
   "source": [
    "Бинарное дерево"
   ]
  },
  {
   "cell_type": "code",
   "execution_count": null,
   "id": "nearby-rapid",
   "metadata": {},
   "outputs": [],
   "source": [
    "import numpy as np\n",
    "import random as rand\n"
   ]
  }
 ],
 "metadata": {
  "kernelspec": {
   "display_name": "Python 3",
   "language": "python",
   "name": "python3"
  },
  "language_info": {
   "codemirror_mode": {
    "name": "ipython",
    "version": 3
   },
   "file_extension": ".py",
   "mimetype": "text/x-python",
   "name": "python",
   "nbconvert_exporter": "python",
   "pygments_lexer": "ipython3",
   "version": "3.9.2"
  }
 },
 "nbformat": 4,
 "nbformat_minor": 5
}
