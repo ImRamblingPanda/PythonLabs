{
 "cells": [
  {
   "cell_type": "markdown",
   "metadata": {},
   "source": [
    "# Лараторная работа №3\n",
    " Выполнил студент группы БСТ1904 Голованов В.Д."
   ]
  },
  {
   "cell_type": "markdown",
   "metadata": {},
   "source": [
    "# Задание №1"
   ]
  },
  {
   "cell_type": "markdown",
   "metadata": {},
   "source": [
    "Алгоритм Кнута-Морриса"
   ]
  },
  {
   "cell_type": "code",
   "execution_count": 3,
   "metadata": {},
   "outputs": [
    {
     "name": "stdin",
     "output_type": "stream",
     "text": [
      "Введите строку: лилилась лилилось\n",
      "Введите подстроку: лилила\n"
     ]
    },
    {
     "name": "stdout",
     "output_type": "stream",
     "text": [
      "Найдено\n",
      "[0, 0, 1, 2, 3, 0]\n"
     ]
    }
   ],
   "source": [
    "def prefMaking(inSub, prefArr):\n",
    "    i = 1\n",
    "    j = 0\n",
    "    while i < len(inSub):\n",
    "        if inSub[j] == inSub[i]:\n",
    "            prefArr[i] = j+1\n",
    "            i += 1\n",
    "            j += 1\n",
    "        else:\n",
    "            if j == 0:\n",
    "                prefArr[i] = 0;\n",
    "                i += 1\n",
    "            else:\n",
    "                j = prefArr[j - 1]\n",
    "def subSearch(inString, inSub, prefArr):\n",
    "    i = 0\n",
    "    j = 0\n",
    "    while i < len(inString):\n",
    "        if inString[i] == inSub[j]:\n",
    "            i += 1\n",
    "            j += 1\n",
    "            if j == len(inSub):\n",
    "                print(\"Найдено\")\n",
    "                break\n",
    "        else:\n",
    "            if j > 0:\n",
    "                j = prefArr[j - 1]\n",
    "            else:\n",
    "                i += 1\n",
    "    if i == len(inString):\n",
    "        print(\"Не найдено\")\n",
    "\n",
    "inString = input(\"Введите строку:\")\n",
    "inSub = input(\"Введите подстроку:\")\n",
    "prefArr = [0]*len(inSub)\n",
    "prefMaking(inSub, prefArr)\n",
    "subSearch(inString, inSub, prefArr)\n",
    "print(prefArr)"
   ]
  },
  {
   "cell_type": "markdown",
   "metadata": {},
   "source": [
    "Алгоритм Бойера-Мура"
   ]
  },
  {
   "cell_type": "code",
   "execution_count": 1,
   "metadata": {},
   "outputs": [
    {
     "name": "stdin",
     "output_type": "stream",
     "text": [
      "Введите строку: метеоданные\n",
      "Введите подстроку: данные\n"
     ]
    },
    {
     "name": "stdout",
     "output_type": "stream",
     "text": [
      "Найдено\n"
     ]
    }
   ],
   "source": [
    "def tab(inSub):\n",
    "    s = set()\n",
    "    n = len(inSub)\n",
    "    d = {}\n",
    "    for i in range(n - 2, -1, -1):\n",
    "        if inSub[i] not in s:\n",
    "            d[inSub[i]] = n-i-1\n",
    "            s.add(inSub[i])\n",
    "    if inSub[n - 1] not in s:\n",
    "        d[inSub[n-1]] = n\n",
    "    d['*'] = n\n",
    "    return d\n",
    "def search(inSub, inString, d):\n",
    "    nSub = len(inSub)\n",
    "    nString = len(inString)\n",
    "    if nString >= nSub:\n",
    "        i = nSub-1\n",
    "    while(i < nString):\n",
    "        k = 0\n",
    "        j = 0\n",
    "        flBreak = False\n",
    "        for j in range(nSub-1, -1, -1):\n",
    "            if inString[i-k] != inSub[j]:\n",
    "                if j == nSub-1:\n",
    "                    off = d[inString[i]] if d.get(inString[i], False) else d['*']\n",
    "                else:\n",
    "                    off = d[inSub[j]]\n",
    "                i += off\n",
    "                flBreak = True\n",
    "                break\n",
    "            k += 1\n",
    "        if not flBreak:\n",
    "            print(\"Найдено\")\n",
    "            break\n",
    "    else:\n",
    "        print(\"Не найдено\")\n",
    "inString = input(\"Введите строку:\")\n",
    "inSub = input(\"Введите подстроку:\")\n",
    "d = tab(inSub)\n",
    "search(inSub, inString, d)"
   ]
  },
  {
   "cell_type": "code",
   "execution_count": null,
   "metadata": {},
   "outputs": [],
   "source": []
  },
  {
   "cell_type": "markdown",
   "metadata": {},
   "source": [
    "# Задание №2"
   ]
  },
  {
   "cell_type": "markdown",
   "metadata": {},
   "source": [
    "Игра в 15, пятнашки, такен — популярная головоломка, придуманная\n",
    "в 1878 году Ноем Чепмэном. Она представляет собой набор\n",
    "одинаковых квадратных костяшек с нанесёнными числами, заключённых в\n",
    "квадратную коробку. Длина стороны коробки в четыре раза больше длины\n",
    "стороны костяшек для набора из 15 элементов, соответственно в коробке\n",
    "остаётся незаполненным одно квадратное поле. Цель игры — перемещая\n",
    "костяшки по коробке, добиться упорядочивания их по номерам, желательно\n",
    "сделав как можно меньше перемещений."
   ]
  },
  {
   "cell_type": "code",
   "execution_count": null,
   "metadata": {},
   "outputs": [],
   "source": [
    "s"
   ]
  }
 ],
 "metadata": {
  "kernelspec": {
   "display_name": "Python 3",
   "language": "python",
   "name": "python3"
  },
  "language_info": {
   "codemirror_mode": {
    "name": "ipython",
    "version": 3
   },
   "file_extension": ".py",
   "mimetype": "text/x-python",
   "name": "python",
   "nbconvert_exporter": "python",
   "pygments_lexer": "ipython3",
   "version": "3.8.5"
  }
 },
 "nbformat": 4,
 "nbformat_minor": 4
}
