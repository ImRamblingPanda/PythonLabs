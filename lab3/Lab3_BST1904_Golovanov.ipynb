{
 "cells": [
  {
   "cell_type": "markdown",
   "metadata": {},
   "source": [
    "# Лараторная работа №3\n",
    " Выполнил студент группы БСТ1904 Голованов В.Д."
   ]
  },
  {
   "cell_type": "markdown",
   "metadata": {},
   "source": [
    "# Задание №1"
   ]
  },
  {
   "cell_type": "markdown",
   "metadata": {},
   "source": [
    "Алгоритм Кнута-Морриса-Прата"
   ]
  },
  {
   "cell_type": "code",
   "execution_count": 2,
   "metadata": {},
   "outputs": [
    {
     "name": "stdin",
     "output_type": "stream",
     "text": [
      "Введите строку: лилила лилилось\n",
      "Введите подстроку: лилила\n"
     ]
    },
    {
     "name": "stdout",
     "output_type": "stream",
     "text": [
      "Найдено\n",
      "[0, 0, 1, 2, 3, 0]\n"
     ]
    }
   ],
   "source": [
    "def prefMaking(inSub, prefArr):\n",
    "    i = 1\n",
    "    j = 0\n",
    "    while i < len(inSub):\n",
    "        if inSub[j] == inSub[i]:\n",
    "            prefArr[i] = j+1\n",
    "            i += 1\n",
    "            j += 1\n",
    "        else:\n",
    "            if j == 0:\n",
    "                prefArr[i] = 0;\n",
    "                i += 1\n",
    "            else:\n",
    "                j = prefArr[j - 1]\n",
    "def subSearch(inString, inSub, prefArr):\n",
    "    i = 0\n",
    "    j = 0\n",
    "    while i < len(inString):\n",
    "        if inString[i] == inSub[j]:\n",
    "            i += 1\n",
    "            j += 1\n",
    "            if j == len(inSub):\n",
    "                print(\"Найдено\")\n",
    "                break\n",
    "        else:\n",
    "            if j > 0:\n",
    "                j = prefArr[j - 1]\n",
    "            else:\n",
    "                i += 1\n",
    "    if i == len(inString):\n",
    "        print(\"Не найдено\")\n",
    "\n",
    "inString = input(\"Введите строку:\")\n",
    "inSub = input(\"Введите подстроку:\")\n",
    "prefArr = [0]*len(inSub)\n",
    "prefMaking(inSub, prefArr)\n",
    "subSearch(inString, inSub, prefArr)\n",
    "print(prefArr)"
   ]
  },
  {
   "cell_type": "markdown",
   "metadata": {},
   "source": [
    "Алгоритм Бойера-Мура-Хорспула"
   ]
  },
  {
   "cell_type": "code",
   "execution_count": 1,
   "metadata": {},
   "outputs": [
    {
     "name": "stdin",
     "output_type": "stream",
     "text": [
      "Введите строку: метеоданные\n",
      "Введите подстроку: данные\n"
     ]
    },
    {
     "name": "stdout",
     "output_type": "stream",
     "text": [
      "Найдено\n"
     ]
    }
   ],
   "source": [
    "def tab(inSub):\n",
    "    s = set()\n",
    "    n = len(inSub)\n",
    "    d = {}\n",
    "    for i in range(n - 2, -1, -1):\n",
    "        if inSub[i] not in s:\n",
    "            d[inSub[i]] = n-i-1\n",
    "            s.add(inSub[i])\n",
    "    if inSub[n - 1] not in s:\n",
    "        d[inSub[n-1]] = n\n",
    "    d['*'] = n\n",
    "    return d\n",
    "def search(inSub, inString, d):\n",
    "    nSub = len(inSub)\n",
    "    nString = len(inString)\n",
    "    if nString >= nSub:\n",
    "        i = nSub-1\n",
    "    while(i < nString):\n",
    "        k = 0\n",
    "        j = 0\n",
    "        flBreak = False\n",
    "        for j in range(nSub-1, -1, -1):\n",
    "            if inString[i-k] != inSub[j]:\n",
    "                if j == nSub-1:\n",
    "                    off = d[inString[i]] if d.get(inString[i], False) else d['*']\n",
    "                else:\n",
    "                    off = d[inSub[j]]\n",
    "                i += off\n",
    "                flBreak = True\n",
    "                break\n",
    "            k += 1\n",
    "        if not flBreak:\n",
    "            print(\"Найдено\")\n",
    "            break\n",
    "    else:\n",
    "        print(\"Не найдено\")\n",
    "inString = input(\"Введите строку:\")\n",
    "inSub = input(\"Введите подстроку:\")\n",
    "d = tab(inSub)\n",
    "search(inSub, inString, d)"
   ]
  },
  {
   "cell_type": "code",
   "execution_count": null,
   "metadata": {},
   "outputs": [],
   "source": []
  },
  {
   "cell_type": "markdown",
   "metadata": {},
   "source": [
    "# Задание №2"
   ]
  },
  {
   "cell_type": "markdown",
   "metadata": {},
   "source": [
    "Игра в 15, пятнашки, такен — популярная головоломка, придуманная\n",
    "в 1878 году Ноем Чепмэном. Она представляет собой набор\n",
    "одинаковых квадратных костяшек с нанесёнными числами, заключённых в\n",
    "квадратную коробку. Длина стороны коробки в четыре раза больше длины\n",
    "стороны костяшек для набора из 15 элементов, соответственно в коробке\n",
    "остаётся незаполненным одно квадратное поле. Цель игры — перемещая\n",
    "костяшки по коробке, добиться упорядочивания их по номерам, желательно\n",
    "сделав как можно меньше перемещений."
   ]
  },
  {
   "cell_type": "code",
   "execution_count": 1,
   "metadata": {},
   "outputs": [
    {
     "name": "stdout",
     "output_type": "stream",
     "text": [
      "  1  2  3  4\n",
      "  5  6  7  8\n",
      " 13  9 11 12\n",
      " 10 14 15  0\n",
      "\n",
      "[15, 14, 10, 13, 9, 10, 14, 15]\n"
     ]
    }
   ],
   "source": [
    "from queue import PriorityQueue\n",
    "\n",
    "N = 4\n",
    "\n",
    "def moves(position):\n",
    "    blank = position.index(0)\n",
    "    i, j = divmod(blank, N)\n",
    "    offsets = []\n",
    "    if i > 0: offsets.append(-N)     # вниз\n",
    "    if i < N - 1: offsets.append(N)  # вверх\n",
    "    if j > 0: offsets.append(-1)     # вправо\n",
    "    if j < N - 1: offsets.append(1)  # влево\n",
    "    for offset in offsets:\n",
    "        swap = blank + offset\n",
    "        yield tuple(position[swap] if x==blank else position[blank] if x==swap else position[x] for x in range(N*N))\n",
    "\n",
    "\n",
    "def parity(permutation):\n",
    "    seen, cycles = set(), 0\n",
    "    for i in permutation:\n",
    "        if i not in seen:\n",
    "            cycles += 1\n",
    "            while i not in seen:\n",
    "                seen.add(i)\n",
    "                i = permutation[i]\n",
    "    return (cycles + len(permutation)) % 2\n",
    "\n",
    "\n",
    "class Position:\n",
    "    def __init__(self, position, start_distance):\n",
    "        self.position = position\n",
    "        self.start_distance = start_distance\n",
    "\n",
    "    def __lt__(self, other):\n",
    "        return self.start_distance < other.start_distance\n",
    "\n",
    "    def __str__(self):\n",
    "        return '\\n'.join((N*'{:3}').format(*[i%(N*N) for i in self.position[i:]]) for i in range(0, N*N, N))\n",
    "\n",
    "SOLVED = (1, 2, 3, 4, 5, 6, 7, 8, 9, 10, 11, 12, 13, 14, 15, 0)\n",
    "\n",
    "start = [1, 2, 3, 4, 5, 6, 7, 8, 13, 9, 11, 12, 10, 14, 15, 0]\n",
    "\n",
    "if parity(start) == 0:\n",
    "    \n",
    "    print('Нерешаемо')\n",
    "else:\n",
    "    start = tuple(start)\n",
    "\n",
    "    p = Position(start, 0)\n",
    "\n",
    "    print(p)\n",
    "    print()\n",
    "\n",
    "    candidates = PriorityQueue()\n",
    "    candidates.put(p)\n",
    "\n",
    "    visited = set([p])\n",
    "\n",
    "    came_from = {p.position: None}\n",
    "    \n",
    "    while p.position != SOLVED:\n",
    "        p = candidates.get()\n",
    "        for k in moves(p.position):\n",
    "            if k not in visited:\n",
    "                candidates.put(Position(k, p.start_distance + 1))\n",
    "                came_from[k] = p\n",
    "                visited.add(k)\n",
    "\n",
    "    path = []\n",
    "    prev = p\n",
    "    while p.position != start:\n",
    "        p = came_from[p.position]\n",
    "        number = p.position[prev.position.index(0)]\n",
    "        path.append(number)\n",
    "        prev = p\n",
    "    path.reverse()\n",
    "\n",
    "    print(path)\n"
   ]
  },
  {
   "cell_type": "markdown",
   "metadata": {},
   "source": [
    "## Вывод:  \n",
    "Были изучены алгоритмы поиска подстроки в строке "
   ]
  },
  {
   "cell_type": "code",
   "execution_count": null,
   "metadata": {},
   "outputs": [],
   "source": []
  }
 ],
 "metadata": {
  "kernelspec": {
   "display_name": "Python 3",
   "language": "python",
   "name": "python3"
  },
  "language_info": {
   "codemirror_mode": {
    "name": "ipython",
    "version": 3
   },
   "file_extension": ".py",
   "mimetype": "text/x-python",
   "name": "python",
   "nbconvert_exporter": "python",
   "pygments_lexer": "ipython3",
   "version": "3.8.5"
  }
 },
 "nbformat": 4,
 "nbformat_minor": 4
}
