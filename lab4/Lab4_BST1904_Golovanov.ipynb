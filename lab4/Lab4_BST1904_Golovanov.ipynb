{
 "cells": [
  {
   "cell_type": "markdown",
   "metadata": {},
   "source": [
    "# Лабораторная работа №4"
   ]
  },
  {
   "cell_type": "markdown",
   "metadata": {},
   "source": [
    "Выполнил студент группы БСТ1904 Голованов В.Д."
   ]
  },
  {
   "cell_type": "markdown",
   "metadata": {},
   "source": [
    "● Стек (stack):  \n",
    "операции для стека: инициализация, проверка на пустоту, добавление  \n",
    "нового элемента в начало, извлечение элемента из начала;  \n",
    "● Дек (двусторонняя очередь, deque):  \n",
    "операции для дека: инициализация, проверка на пустоту, добавление  \n",
    "нового элемента в начало, добавление нового элемента в конец,  \n",
    "извлечение элемента из начала, извлечение элемента из конца.\n"
   ]
  },
  {
   "cell_type": "markdown",
   "metadata": {},
   "source": [
    "Стэк"
   ]
  },
  {
   "cell_type": "code",
   "execution_count": 1,
   "metadata": {},
   "outputs": [],
   "source": [
    "class Stack:\n",
    "    def __init__(self):\n",
    "        self.items = []\n",
    "    def isEmpty(self):\n",
    "        return self.items == []\n",
    "    def push(self, item):\n",
    "        self.items.append(item)\n",
    "    def pop(self):\n",
    "        return self.items.pop()\n",
    "    def peak(self):\n",
    "        return self.items(len(self.items))"
   ]
  },
  {
   "cell_type": "markdown",
   "metadata": {},
   "source": [
    "Дэк"
   ]
  },
  {
   "cell_type": "code",
   "execution_count": 4,
   "metadata": {},
   "outputs": [],
   "source": [
    "class Deque:\n",
    "    def __init__(self):\n",
    "        self.items = []\n",
    "    def isEmpty(self):\n",
    "        return self.items == []\n",
    "    def addFront(self, item):\n",
    "        self.items.insert(item)\n",
    "    def addBack(self, item):\n",
    "        self.items.append(item)\n",
    "    def popFront(self, item):\n",
    "        return self.items.pop()\n",
    "    def popBack(self, item):\n",
    "        return self.items(0)\n",
    "    def peakFront(self, item):\n",
    "        return self.items(0)\n",
    "    def peakBack(self, item):\n",
    "        return self.items(len(self.items))"
   ]
  },
  {
   "cell_type": "markdown",
   "metadata": {},
   "source": [
    "Задание №1  \n",
    "Отсортировать строки файла, содержащие названия книг, в алфавитном порядке с использованием двух деков."
   ]
  },
  {
   "cell_type": "code",
   "execution_count": null,
   "metadata": {},
   "outputs": [],
   "source": []
  },
  {
   "cell_type": "markdown",
   "metadata": {},
   "source": [
    "Задание №2  \n",
    "Дек содержит последовательность символов для шифровки сообщений. Дан\n",
    "текстовый файл, содержащий зашифрованное сообщение. Пользуясь деком,\n",
    "расшифровать текст. Известно, что при шифровке каждый символ сообщения\n",
    "заменялся следующим за ним в деке по часовой стрелке через один.\n"
   ]
  },
  {
   "cell_type": "code",
   "execution_count": null,
   "metadata": {},
   "outputs": [],
   "source": []
  },
  {
   "cell_type": "markdown",
   "metadata": {},
   "source": [
    "Задание №3  \n",
    "Даны три стержня и n дисков различного размера. Диски можно надевать на  \n",
    "стержни, образуя из них башни. Перенести n дисков со стержня А на стержень С,  \n",
    "сохранив их первоначальный порядок. При переносе дисков необходимо соблюдать  \n",
    "следующие правила:  \n",
    "- на каждом шаге со стержня на стержень переносить только один диск;  \n",
    "- диск нельзя помещать на диск меньшего размера;  \n",
    "- для промежуточного хранения можно использовать стержень В.  \n",
    "Реализовать алгоритм, используя три стека вместо стержней А, В, С. Информация  \n",
    "о дисках хранится в исходном файле  "
   ]
  },
  {
   "cell_type": "code",
   "execution_count": null,
   "metadata": {},
   "outputs": [],
   "source": []
  },
  {
   "cell_type": "markdown",
   "metadata": {},
   "source": [
    "Задание №4  \n",
    "Дан текстовый файл с программой на алгоритмическом языке. За один просмотр  \n",
    "файла проверить баланс круглых скобок в тексте, используя стек.  "
   ]
  },
  {
   "cell_type": "code",
   "execution_count": null,
   "metadata": {},
   "outputs": [],
   "source": []
  },
  {
   "cell_type": "markdown",
   "metadata": {},
   "source": [
    "Задание №5  \n",
    "Дан текстовый файл с программой на алгоритмическом языке. За один просмотр  \n",
    "файла проверить баланс квадратных скобок в тексте, используя дек.  "
   ]
  },
  {
   "cell_type": "code",
   "execution_count": null,
   "metadata": {},
   "outputs": [],
   "source": []
  },
  {
   "cell_type": "code",
   "execution_count": null,
   "metadata": {},
   "outputs": [],
   "source": []
  }
 ],
 "metadata": {
  "kernelspec": {
   "display_name": "Python 3",
   "language": "python",
   "name": "python3"
  },
  "language_info": {
   "codemirror_mode": {
    "name": "ipython",
    "version": 3
   },
   "file_extension": ".py",
   "mimetype": "text/x-python",
   "name": "python",
   "nbconvert_exporter": "python",
   "pygments_lexer": "ipython3",
   "version": "3.8.5"
  }
 },
 "nbformat": 4,
 "nbformat_minor": 4
}
